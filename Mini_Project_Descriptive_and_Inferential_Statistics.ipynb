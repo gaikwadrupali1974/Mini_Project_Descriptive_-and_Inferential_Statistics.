{
  "nbformat": 4,
  "nbformat_minor": 0,
  "metadata": {
    "colab": {
      "provenance": []
    },
    "kernelspec": {
      "name": "python3",
      "display_name": "Python 3"
    },
    "language_info": {
      "name": "python"
    }
  },
  "cells": [
    {
      "cell_type": "code",
      "execution_count": 6,
      "metadata": {
        "id": "NDEXdzXZPiT8"
      },
      "outputs": [],
      "source": [
        "# Q1. Key Statistical Definitions\n"
      ]
    },
    {
      "cell_type": "code",
      "source": [
        "# Problem:\n",
        "Write short definitions (2-3 lines each) for the following:\n",
        "\n",
        "a) Population and Sample :\n",
        "# In statistics, a population is the entire group of individuals, items, or data points that you want to study or draw conclusions about.\n",
        "# A sample is a subset of the population — it consists of some members selected from the population.####\n",
        "# e.g. If you are studying the average height of all students in a university, then all the students in that university form the population in case of population.\n",
        "# e.g. Instead of measuring the height of every student in the university, you measure the height of 200 randomly selected students. These 200 students are the sample.\n",
        "\n",
        "b) Descriptive Statistics and Inferential Statistics :\n",
        "# Descriptive statistics are methods used to summarize and describe the main features of a dataset. They help organize and simplify large amounts of data in a meaningful way.\n",
        "# Inferential statistics involve using data from a sample to make conclusions, predictions, or generalizations about a population. It includes hypothesis testing, estimation, and making predictions.\n",
        "# e.g. Finding the percentage of male and female students in a survey is a descriptive Statistics\n",
        "# e.g. Using the average marks from a sample of students to estimate the average marks of all students in the university is Inferential Statistics.\n",
        "\n",
        "\n",
        "c) Parameter and Statistic :\n",
        "# A parameter is a numerical value that describes a characteristic of a population. It is a fixed value, but usually unknown because it’s hard to measure the whole population.A parameter describes the whole population.\n",
        "# A statistic is a numerical value that describes a characteristic of a sample. It is calculated from sample data and used to estimate the corresponding parameter.A statistic describes a sample, and it is used to make inferences about the population parameter.\n",
        "# e.g The average height of all students in a university — this true average is a parameter.\n",
        "# e.g The average height of 200 students selected from the university — this average is a statistic.\n",
        "\n",
        "\n",
        "\n",
        "d) Qualitative and Quantitative Data :\n",
        "# Qualitative data also called categorical data, qualitative data describes qualities or characteristics. It is non-numerical — it labels or names attributes. Qualitative data classifies or describes, not counts or measures.\n",
        "# Quantitative data is numerical — it represents quantities and can be counted or measured. Quantitative data counts or measures things.\n",
        "# e.g.Types of cuisine (Italian, Chinese, Indian).\n",
        "# e.g Income in dollars.\n",
        "\n"
      ],
      "metadata": {
        "id": "_dh8IpcqPvCc",
        "colab": {
          "base_uri": "https://localhost:8080/",
          "height": 106
        },
        "outputId": "edc47ecc-ad22-4b1b-a4ac-e8aedd4e3b4c"
      },
      "execution_count": 7,
      "outputs": [
        {
          "output_type": "error",
          "ename": "SyntaxError",
          "evalue": "unmatched ')' (<ipython-input-7-991066108>, line 4)",
          "traceback": [
            "\u001b[0;36m  File \u001b[0;32m\"<ipython-input-7-991066108>\"\u001b[0;36m, line \u001b[0;32m4\u001b[0m\n\u001b[0;31m    a) Population and Sample :\u001b[0m\n\u001b[0m     ^\u001b[0m\n\u001b[0;31mSyntaxError\u001b[0m\u001b[0;31m:\u001b[0m unmatched ')'\n"
          ]
        }
      ]
    },
    {
      "cell_type": "code",
      "source": [
        "# Q2. Measures of Central Tendency - Definitions\n"
      ],
      "metadata": {
        "id": "dL4al021PvFX"
      },
      "execution_count": null,
      "outputs": []
    },
    {
      "cell_type": "code",
      "source": [
        "# Problem:\n",
        " Define the following terms with one example each:\n",
        "a) Mean :\n",
        "# The mean is the average of a set of numbers. It’s calculated by adding up all the values and then dividing by the number of values.\n",
        "\n",
        "b) Median :\n",
        "# The median is the middle value in an ordered (sorted) list of numbers.\n",
        "# If there is an odd number of values, the median is the middle one.\n",
        "# If there is an even number of values, the median is the average of the two middle values.\n",
        "\n",
        "c) Mode :\n",
        "# The mode is the value that appears most frequently in a dataset.\n",
        "# A dataset can have no mode (if all values are unique), one mode (unimodal), or more than one mode (bimodal, multimodal).\n",
        "\n"
      ],
      "metadata": {
        "id": "VjjO7_EZPvIO"
      },
      "execution_count": null,
      "outputs": []
    },
    {
      "cell_type": "code",
      "source": [
        "# Q3. Manual Calculation of Mean, Median, and Mode\n"
      ],
      "metadata": {
        "id": "OT04HcT9PvLX"
      },
      "execution_count": null,
      "outputs": []
    },
    {
      "cell_type": "code",
      "source": [
        "# Problem:\n",
        " Given the dataset:\n",
        " 12, 18, 14, 16, 18, 20, 18, 15, 12, 18, 14, 16, 18, 20, 18, 15\n",
        "Calculate:\n",
        "a) Mean\n",
        "b) Median\n",
        "c) Mode\n"
      ],
      "metadata": {
        "id": "VLNEWCAQPvOA"
      },
      "execution_count": null,
      "outputs": []
    },
    {
      "cell_type": "code",
      "source": [
        "import pandas as pd"
      ],
      "metadata": {
        "id": "sRBce932asQv"
      },
      "execution_count": null,
      "outputs": []
    },
    {
      "cell_type": "code",
      "source": [
        "pd.DataFrame([ 12, 18, 14, 16, 18, 20, 18, 15, 12, 18, 14, 16, 18, 20, 18, 15]).describe()"
      ],
      "metadata": {
        "id": "Q4OQyzfLasTj"
      },
      "execution_count": null,
      "outputs": []
    },
    {
      "cell_type": "code",
      "source": [
        "Answer:\n",
        "a) Mean = 16.37\n",
        "b) Median = 17.0\n",
        "c) Mode = 18.0"
      ],
      "metadata": {
        "id": "nC09mKcgasWj",
        "colab": {
          "base_uri": "https://localhost:8080/",
          "height": 106
        },
        "outputId": "dd052e88-51f2-42bc-e6df-ea0d7330c2f9"
      },
      "execution_count": 8,
      "outputs": [
        {
          "output_type": "error",
          "ename": "SyntaxError",
          "evalue": "unmatched ')' (<ipython-input-8-1610795339>, line 2)",
          "traceback": [
            "\u001b[0;36m  File \u001b[0;32m\"<ipython-input-8-1610795339>\"\u001b[0;36m, line \u001b[0;32m2\u001b[0m\n\u001b[0;31m    a) Mean = 16.37\u001b[0m\n\u001b[0m     ^\u001b[0m\n\u001b[0;31mSyntaxError\u001b[0m\u001b[0;31m:\u001b[0m unmatched ')'\n"
          ]
        }
      ]
    },
    {
      "cell_type": "code",
      "source": [
        "# Q4. Levels of Measurement\n"
      ],
      "metadata": {
        "id": "4FcPa5bIasZa"
      },
      "execution_count": null,
      "outputs": []
    },
    {
      "cell_type": "code",
      "source": [
        "# Problem:\n",
        "Define and give one example for each level of measurement:\n",
        "a) Nominal\n",
        "# Categories without any order. Just labels or names. E.g. Gender (Male, Female), Blood type (A, B, AB, O), Types of fruit (Apple, Banana, Mango)\n",
        "\n",
        "b) Ordinal\n",
        "# Categories with a meaningful order, but differences between them are not measured.E.g Ranks (1st, 2nd, 3rd), Customer satisfaction (Low, Medium, High), Education level (Primary, Secondary, Tertiary)\n",
        "\n",
        "c) Interval\n",
        "# Numerical values with equal intervals, but no true zero point.E.g Temperature in Celsius or Fahrenheit (20°C, 30°C), IQ scores, Dates on a calendar\n",
        "\n",
        "d) Ratio\n",
        "# Numerical values with equal intervals and a true zero point. Allows meaningful ratios (e.g., twice as much).E.g Height (in cm), Weight (in kg), Age, Income, Distance\n",
        "\n",
        "# Nominal → Name only\n",
        "# Ordinal → Order matters\n",
        "# Interval → Equal intervals but no true zero\n",
        "# Ratio → All properties + true zero"
      ],
      "metadata": {
        "id": "bS3HDxhecVPw"
      },
      "execution_count": null,
      "outputs": []
    },
    {
      "cell_type": "code",
      "source": [
        "# Q5. Variance and Standard Deviation - Theory\n"
      ],
      "metadata": {
        "id": "xBJiLeqacVSl"
      },
      "execution_count": null,
      "outputs": []
    },
    {
      "cell_type": "code",
      "source": [
        "# Problem:\n",
        "a) Define Variance and Standard Deviation.\n",
        "# Variance measures how much the data values spread out from the mean. It tells you the average squared deviation from the mean.It shows the Average squared spread. Variance shows how spread out the data is, but in squared units.\n",
        "\n",
        "\n",
        "b) Explain why Standard Deviation is more interpretable than Variance.\n",
        "# Standard Deviation is the square root of the variance. It measures the average distance of each data point from the mean — in the same units as the data. It shows the Average spread.Standard Deviation gives a more interpretable measure, in the same units as the data.\n",
        "\n"
      ],
      "metadata": {
        "id": "TlM7l47EcVVv"
      },
      "execution_count": null,
      "outputs": []
    },
    {
      "cell_type": "code",
      "source": [
        "# Example:\n",
        "For data: 2, 4, 6"
      ],
      "metadata": {
        "id": "8FyGWu9scVZN"
      },
      "execution_count": null,
      "outputs": []
    },
    {
      "cell_type": "code",
      "source": [
        "import numpy as np\n",
        "\n",
        "data = [2, 4, 6]\n",
        "\n",
        "# Variance (sample)\n",
        "variance = np.var(data, ddof=1)  # ddof=1 for sample variance inplace of (n-1)\n",
        "print(\"Variance:\", variance)\n",
        "\n",
        "# Standard Deviation (sample)\n",
        "std_dev = np.std(data, ddof=1)\n",
        "print(\"Standard Deviation:\", std_dev)\n"
      ],
      "metadata": {
        "id": "sxn_0uB1cVcx"
      },
      "execution_count": null,
      "outputs": []
    },
    {
      "cell_type": "code",
      "source": [
        "# Q6. Manual Calculation - Variance and Standard Deviation"
      ],
      "metadata": {
        "id": "HTkrqNFJqzFD"
      },
      "execution_count": null,
      "outputs": []
    },
    {
      "cell_type": "code",
      "source": [
        "# Problem:\n",
        " Given the data:\n",
        " 8, 10, 12, 14, 16, 10, 12, 14, 16\n"
      ],
      "metadata": {
        "id": "eiVBfoboqzvl"
      },
      "execution_count": null,
      "outputs": []
    },
    {
      "cell_type": "code",
      "source": [
        "import numpy as np\n",
        "\n",
        "data = [8, 10, 12, 14, 16, 10, 12, 14, 16]\n",
        "\n",
        "# Variance (sample)\n",
        "variance = np.var(data, ddof=1)  # ddof=1 for sample variance inplace of (n-1)\n",
        "\n",
        "# Standard Deviation (sample)\n",
        "std_dev = np.std(data, ddof=1)\n",
        "\n",
        "variance = round(variance, 2)\n",
        "std_dev = round(std_dev, 2)\n",
        "\n",
        "print(\"Variance:\", variance)\n",
        "print(\"Standard Deviation:\", std_dev)"
      ],
      "metadata": {
        "colab": {
          "base_uri": "https://localhost:8080/"
        },
        "id": "2-R5TapoqzzN",
        "outputId": "4b2ef496-619b-456b-86c1-bab3b7197579"
      },
      "execution_count": 14,
      "outputs": [
        {
          "output_type": "stream",
          "name": "stdout",
          "text": [
            "Variance: 7.78\n",
            "Standard Deviation: 2.79\n"
          ]
        }
      ]
    },
    {
      "cell_type": "code",
      "source": [
        "# Q7. Range and Interquartile Range (IQR)"
      ],
      "metadata": {
        "id": "ctp0fXnaqz2k"
      },
      "execution_count": null,
      "outputs": []
    },
    {
      "cell_type": "code",
      "source": [
        "# Problem:\n",
        " Given the dataset:\n",
        " 22, 29, 25, 31, 35, 40, 45, 48, 50\n",
        "a) Arrange data in ascending order\n",
        "b) Calculate the Range\n",
        "c) Find Q1, Q3, and IQR\n"
      ],
      "metadata": {
        "id": "dp2dhuBtqz5j"
      },
      "execution_count": null,
      "outputs": []
    },
    {
      "cell_type": "code",
      "source": [
        "# # Sort the data in ascending order\n",
        "data = 22, 29, 25, 31, 35, 40, 45, 48, 50\n",
        "\n",
        "data_sorted = sorted(data)\n",
        "\n",
        "print(\"Data in ascending order:\", data_sorted)"
      ],
      "metadata": {
        "colab": {
          "base_uri": "https://localhost:8080/"
        },
        "id": "HFPtkn2Oqz8j",
        "outputId": "bead848a-6e59-4065-cf98-d9fb429597c1"
      },
      "execution_count": 15,
      "outputs": [
        {
          "output_type": "stream",
          "name": "stdout",
          "text": [
            "Data in ascending order: [22, 25, 29, 31, 35, 40, 45, 48, 50]\n"
          ]
        }
      ]
    },
    {
      "cell_type": "code",
      "source": [
        "# Calculate Range\n",
        "\n",
        "data = [22, 29, 25, 31, 35, 40, 45, 48, 50]\n",
        "\n",
        "range_value = max(data) - min(data)\n",
        "\n",
        "print(\"Range:\", range_value)"
      ],
      "metadata": {
        "colab": {
          "base_uri": "https://localhost:8080/"
        },
        "id": "DUbmlWldq0AE",
        "outputId": "7fdf3957-4761-4e7a-d744-98ad6151b324"
      },
      "execution_count": 9,
      "outputs": [
        {
          "output_type": "stream",
          "name": "stdout",
          "text": [
            "Range: 28\n"
          ]
        }
      ]
    },
    {
      "cell_type": "code",
      "source": [
        "# Find Q1, Q3, and IQR (The Interquartile Range (IQR) measures the spread of the middle 50% of a dataset.It tells you how widely the central data values are dispersed, ignoring extreme outliers.)"
      ],
      "metadata": {
        "id": "rTfPBbZDwvpD"
      },
      "execution_count": 10,
      "outputs": []
    },
    {
      "cell_type": "code",
      "source": [
        "# Given data\n",
        "data = [22, 25, 29, 31, 35, 40, 45, 48, 50]\n",
        "\n",
        "# Step 1: Sort the data\n",
        "data_sorted = sorted(data)\n",
        "\n",
        "# Step 2: Find Q1 and Q3\n",
        "import numpy as np\n",
        "\n",
        "Q1 = np.percentile(data_sorted, 25)\n",
        "Q3 = np.percentile(data_sorted, 75)\n",
        "\n",
        "# Step 3: Calculate IQR\n",
        "IQR = Q3 - Q1\n",
        "\n",
        "print(\"Q1:\", Q1)\n",
        "print(\"Q3:\", Q3)\n",
        "print(\"IQR:\", IQR)\n"
      ],
      "metadata": {
        "colab": {
          "base_uri": "https://localhost:8080/"
        },
        "id": "R1djsIbkwvla",
        "outputId": "8dcb80eb-8c09-42ee-c171-13e3c1edc2dd"
      },
      "execution_count": 11,
      "outputs": [
        {
          "output_type": "stream",
          "name": "stdout",
          "text": [
            "Q1: 29.0\n",
            "Q3: 45.0\n",
            "IQR: 16.0\n"
          ]
        }
      ]
    },
    {
      "cell_type": "code",
      "source": [
        "# Q8. Five-number Summary and Boxplot Concept"
      ],
      "metadata": {
        "id": "qNx2BPZJwvfT"
      },
      "execution_count": 12,
      "outputs": []
    },
    {
      "cell_type": "code",
      "source": [
        "Problem:\n",
        "Define the Five-number Summary and explain each component:\n",
        "Minimum\n",
        "Q1 (First Quartile)\n",
        "Median\n",
        "Q3 (Third Quartile)\n",
        "Maximum\n",
        "Describe how boxplots help in detecting outliers.\n"
      ],
      "metadata": {
        "colab": {
          "base_uri": "https://localhost:8080/",
          "height": 106
        },
        "id": "xLBAQiDTwvcW",
        "outputId": "1cdcefde-851e-49d5-9a12-f8dc4bb6de32"
      },
      "execution_count": 13,
      "outputs": [
        {
          "output_type": "error",
          "ename": "SyntaxError",
          "evalue": "invalid syntax (<ipython-input-13-1595017411>, line 1)",
          "traceback": [
            "\u001b[0;36m  File \u001b[0;32m\"<ipython-input-13-1595017411>\"\u001b[0;36m, line \u001b[0;32m1\u001b[0m\n\u001b[0;31m    Problem:\u001b[0m\n\u001b[0m            ^\u001b[0m\n\u001b[0;31mSyntaxError\u001b[0m\u001b[0;31m:\u001b[0m invalid syntax\n"
          ]
        }
      ]
    },
    {
      "cell_type": "code",
      "source": [
        "import pandas as pd\n",
        "# Example for Five-number summary. The Five-Number Summary is a simple, concise way to describe the distribution of a dataset. It shows how the data is spread out by reporting five key descriptive statistics:\n",
        "# Minimum : Lowest value in the dataset\n",
        "# Q1 (First Quartile) : 25& of the dataset\n",
        "# Median : Middle value of the data set.\n",
        "# Q3 (Third Quartile)\n",
        "# Maximum : Largest value in the data set.\n",
        "# Outliers : are values beyond the lower and upper bound.\n",
        "\n",
        "Data = 22, 25, 29, 31, 35, 40, 45, 48, 50\n",
        "\n",
        "pd.DataFrame([22, 25, 29, 31, 35, 40, 45, 48, 50]).describe()"
      ],
      "metadata": {
        "id": "LZ7P7NsKwvZg"
      },
      "execution_count": null,
      "outputs": []
    },
    {
      "cell_type": "code",
      "source": [
        "import seaborn as sns\n",
        "import matplotlib.pyplot as plt\n",
        "\n",
        "# Your dataset\n",
        "data = [22, 25, 29, 31, 35, 40, 45, 48, 50]\n",
        "\n",
        "# Create a boxplot\n",
        "sns.boxplot(data=data)\n",
        "plt.title(\"Boxplot of Dataset\")\n",
        "plt.xlabel(\"Values\")\n",
        "plt.show()\n",
        "\n",
        "\n"
      ],
      "metadata": {
        "colab": {
          "base_uri": "https://localhost:8080/",
          "height": 458
        },
        "id": "Y51xRLDPwvWk",
        "outputId": "aa3a60fc-0950-4677-aa3e-4dea1831a5a2"
      },
      "execution_count": 16,
      "outputs": [
        {
          "output_type": "display_data",
          "data": {
            "text/plain": [
              "<Figure size 640x480 with 1 Axes>"
            ],
            "image/png": "[encoded data removed]"
          },
          "metadata": {}
        }
      ]
    },
    {
      "cell_type": "code",
      "source": [
        "# This boxplot would instantly show you:\n",
        "\n",
        "# Where most data values cluster (the box)= between 35 to 45\n",
        "# Where the center is (the median line)= 35\n",
        "# The spread from minimum to maximum (whiskers)= 22 and 50\n",
        "# If any values are unusually far from the rest (outliers) = In this data set we have no outliers as IQR method."
      ],
      "metadata": {
        "id": "3zbNh1srwvTv"
      },
      "execution_count": null,
      "outputs": []
    },
    {
      "cell_type": "code",
      "source": [
        "# Q9. Confidence Interval for the Mean"
      ],
      "metadata": {
        "id": "QV3O8RiC3Vea"
      },
      "execution_count": null,
      "outputs": []
    },
    {
      "cell_type": "code",
      "source": [
        "# Problem:\n",
        " A sample of 36 students has an average height of 162 cm with a standard deviation of 6 cm.\n",
        " Calculate the 95% Confidence Interval for the population mean.\n",
        " (Hint: Use Z = 1.96 for 95% confidence)\n"
      ],
      "metadata": {
        "id": "DyhzZYu_3Vhb"
      },
      "execution_count": null,
      "outputs": []
    },
    {
      "cell_type": "code",
      "source": [
        "import math\n",
        "\n",
        "sample_mean = 162\n",
        "sample_std = 6\n",
        "n = 36\n",
        "z = 1.96  # Z-value for 95% confidence\n",
        "\n",
        "# Calculate standard error (SE). SE tells you how much the sample mean is expected to vary from the true population mean.\n",
        "SE = sample_std / math.sqrt(n)\n",
        "\n",
        "# Calculate confidence interval\n",
        "lower_bound = sample_mean - z * SE\n",
        "upper_bound = sample_mean + z * SE\n",
        "\n",
        "print(SE)\n",
        "print(f\"95% Confidence Interval: [{lower_bound:.2f}, {upper_bound:.2f}]\")"
      ],
      "metadata": {
        "id": "bh9D5Cvw3Vki",
        "outputId": "eb8f1af3-4387-479a-d167-b10a361d6557",
        "colab": {
          "base_uri": "https://localhost:8080/"
        }
      },
      "execution_count": 17,
      "outputs": [
        {
          "output_type": "stream",
          "name": "stdout",
          "text": [
            "1.0\n",
            "95% Confidence Interval: [160.04, 163.96]\n"
          ]
        }
      ]
    },
    {
      "cell_type": "code",
      "source": [
        "# Q10. Hypothesis Testing - One Sample Z-Test"
      ],
      "metadata": {
        "id": "KLucpv_V3Vn6"
      },
      "execution_count": null,
      "outputs": []
    },
    {
      "cell_type": "code",
      "source": [
        "# Problem:\n",
        " The average salary in a city is ₹30,000. A random sample of 49 employees has an average salary of ₹31,000 with a standard deviation of ₹4,900.\n",
        " Test the hypothesis at the 5% level of significance to determine if the average salary has increased.\n",
        "a) State the null and alternative hypothesis:\n",
        "b) Calculate the Z-score:\n",
        "c) Conclude the result using critical value (±1.96)\n"
      ],
      "metadata": {
        "id": "_I3C6yFY3Vq2"
      },
      "execution_count": null,
      "outputs": []
    },
    {
      "cell_type": "code",
      "source": [
        "import math\n",
        "from scipy.stats import norm\n",
        "\n",
        "# Given values\n",
        "population_mean = 30000\n",
        "sample_mean = 31000\n",
        "sample_std = 4900\n",
        "n = 49\n",
        "alpha = 0.05\n",
        "\n",
        "# Null Hypo: avg salary has not increased 30,000 i.e. mean = 30000\n",
        "# Alternative Hypo: avg salary has increased 31,000 i.e.mean >30000\n",
        "\n",
        "\n",
        "# Calculate Standard Error (SE)\n",
        "SE = sample_std / math.sqrt(n)\n",
        "\n",
        "# Calculate Z-score\n",
        "Z = (sample_mean - population_mean) / SE\n",
        "\n",
        "print(f\"Standard Error (SE): {SE:.2f}\")\n",
        "print(f\"Z-score: {Z:.2f}\")\n",
        "\n",
        "# Find critical Z for one-tailed test at 5% significance\n",
        "critical_Z = norm.ppf(1 - alpha)  # for right-tailed test\n",
        "\n",
        "print(f\"Critical Z (one-tailed, 5% level): {critical_Z:.2f}\")\n",
        "\n",
        "# Decision\n",
        "if Z > critical_Z:\n",
        "    print(\"Reject the null hypothesis: The average salary has increased.\")\n",
        "else:\n",
        "    print(\"Fail to reject the null hypothesis: Not enough evidence to conclude an increase.\")\n"
      ],
      "metadata": {
        "id": "uK0RqeOd8BoE"
      },
      "execution_count": null,
      "outputs": []
    },
    {
      "cell_type": "code",
      "source": [
        "# 1.43 < 1.645\n",
        "# So, we do NOT have enough evidence to reject the null hypothesis.\n",
        "# At the 5% level of significance, we fail to reject the null hypothesis.\n",
        "# There is not enough statistical evidence to say that the average salary in the city has increased."
      ],
      "metadata": {
        "id": "Z_DbYllj8BfJ"
      },
      "execution_count": null,
      "outputs": []
    },
    {
      "cell_type": "code",
      "source": [],
      "metadata": {
        "id": "2Wq4OGwn8BVi"
      },
      "execution_count": null,
      "outputs": []
    }
  ]
}